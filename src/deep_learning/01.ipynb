{
 "cells": [
  {
   "cell_type": "code",
   "execution_count": null,
   "source": [
    "import matplotlib.pyplot as plt\n",
    "import numpy as np\n",
    "import tensorflow\n",
    "from tensorflow import keras\n",
    "\n",
    "### Load dataset & train/test data\n",
    "dataset = keras.datasets.fashion_mnist\n",
    "((x_train, y_train), (x_test, y_test)) = dataset.load_data()\n",
    "\n",
    "### Define constants\n",
    "all_classifications_indexes = y_train.max()\n",
    "all_classification_names = [\n",
    "  'T-shirt/top',\n",
    "  'Trouser',\n",
    "  'Pullover',\n",
    "  'Dress',\n",
    "  'Coat',\n",
    "  'Sandal',\n",
    "  'Shirt',\n",
    "  'Sneaker',\n",
    "  'Bag',\n",
    "  'Ankle boot',\n",
    "]"
   ],
   "outputs": [],
   "metadata": {}
  },
  {
   "cell_type": "code",
   "execution_count": null,
   "source": [
    "### Plotting first 10 images\n",
    "for image in range(10):\n",
    "  plt.subplot(2, 5, image + 1)\n",
    "  plt.imshow(x_train[image])\n",
    "  plt.title(all_classification_names[y_train[image]])\n",
    "\n",
    "### Getting color range of images\n",
    "plt.imshow(x_train[0])\n",
    "plt.colorbar()\n",
    "\n",
    "### Tranforms/Normalize image color range (0...255) to floats (0...1)\n",
    "x_train = x_train/float(255)\n",
    "x_test = x_test/float(255)"
   ],
   "outputs": [],
   "metadata": {}
  },
  {
   "cell_type": "code",
   "execution_count": null,
   "source": [
    "### Create model with some layers\n",
    "# Entry-layer: flatten one image with 28px into an unidimensional array\n",
    "# Intermediary-layer: relu - classify based all inputs (Xs non negatives) based on pre-determinated Ys\n",
    "# Intermediary-layer: dropout normalize - sleepy 20% of unities\n",
    "# Intermediary-layer: softmax - adds a percentage value in all inputs to determine them, based on 10 classifications we have\n",
    "model = keras.Sequential([\n",
    "  keras.layers.Flatten(input_shape=(28, 28)),\n",
    "  keras.layers.Dense(256, activation=tensorflow.nn.relu),\n",
    "  keras.layers.Dropout(0.2),\n",
    "  keras.layers.Dense(10, activation=tensorflow.nn.softmax),\n",
    "])\n",
    "\n",
    "model.compile(\n",
    "  optimizer='adam', \n",
    "  loss='sparse_categorical_crossentropy', \n",
    "  metrics=['accuracy']\n",
    ")\n",
    "\n",
    "history = model.fit(x_train, y_train, epochs=5, validation_split=0.2)"
   ],
   "outputs": [],
   "metadata": {}
  },
  {
   "cell_type": "code",
   "execution_count": 37,
   "source": [
    "### Save model\n",
    "model.save('model.h5')\n",
    "saved_model = keras.models.load_model('model.h5')"
   ],
   "outputs": [],
   "metadata": {}
  },
  {
   "cell_type": "code",
   "execution_count": null,
   "source": [
    "### Test & validate model\n",
    "predictions = model.predict(x_test)\n",
    "loss_test, accuracy_test = model.evaluate(x_test, y_test)\n",
    "\n",
    "print('Loss:', loss_test)\n",
    "print('Accuracy:', accuracy_test)"
   ],
   "outputs": [],
   "metadata": {}
  },
  {
   "cell_type": "code",
   "execution_count": null,
   "source": [
    "### Plot loss by epoch\n",
    "plt.plot(history.history['loss'])\n",
    "plt.plot(history.history['val_loss'])\n",
    "plt.title('Loss by epoch')\n",
    "plt.xlabel('epochs')\n",
    "plt.ylabel('loss')\n",
    "plt.legend(['train', 'validation'])"
   ],
   "outputs": [],
   "metadata": {}
  },
  {
   "cell_type": "code",
   "execution_count": null,
   "source": [
    "### Plot accuracy by epoch\n",
    "plt.plot(history.history['accuracy'])\n",
    "plt.plot(history.history['val_accuracy'])\n",
    "plt.title('Accuracy by epoch')\n",
    "plt.xlabel('epochs')\n",
    "plt.ylabel('accuracy')\n",
    "plt.legend(['train', 'validation'])"
   ],
   "outputs": [],
   "metadata": {}
  }
 ],
 "metadata": {
  "orig_nbformat": 4,
  "language_info": {
   "name": "python",
   "version": "3.8.10",
   "mimetype": "text/x-python",
   "codemirror_mode": {
    "name": "ipython",
    "version": 3
   },
   "pygments_lexer": "ipython3",
   "nbconvert_exporter": "python",
   "file_extension": ".py"
  },
  "kernelspec": {
   "name": "python3",
   "display_name": "Python 3.8.10 64-bit"
  },
  "interpreter": {
   "hash": "916dbcbb3f70747c44a77c7bcd40155683ae19c65e1c03b4aa3499c5328201f1"
  }
 },
 "nbformat": 4,
 "nbformat_minor": 2
}