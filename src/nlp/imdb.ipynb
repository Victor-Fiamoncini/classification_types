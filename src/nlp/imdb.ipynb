{
 "cells": [
  {
   "cell_type": "code",
   "execution_count": null,
   "source": [
    "from sklearn.feature_extraction.text import CountVectorizer\n",
    "from sklearn.linear_model import LogisticRegression\n",
    "from sklearn.model_selection import train_test_split\n",
    "from string import punctuation\n",
    "from unidecode import unidecode\n",
    "from wordcloud import WordCloud\n",
    "import matplotlib.pyplot as plt\n",
    "import nltk\n",
    "import pandas as pd\n",
    "import seaborn as sns\n",
    "\n",
    "### Define global constants\n",
    "SEED = 42\n",
    "\n",
    "### Getting data, modeling & separating into train/test data\n",
    "df = pd.read_csv('data/imdb-reviews-pt-br.csv')\n",
    "\n",
    "classification_column = df['sentiment'].replace(['neg', 'pos'], [0, 1])\n",
    "df['classification'] = classification_column\n",
    "\n",
    "### Define util global vars\n",
    "all_words = ' '.join([text for text in df['text_pt']])\n",
    "whitespace_tokenizer = nltk.tokenize.WhitespaceTokenizer()\n",
    "punct_tokenizer = nltk.tokenize.WordPunctTokenizer() \n",
    "\n",
    "stopwords = nltk.corpus.stopwords.words('portuguese')\n",
    "punctuations = [punct for punct in punctuation]\n",
    "punctuations_and_stopwords = punctuations + stopwords"
   ],
   "outputs": [],
   "metadata": {}
  },
  {
   "cell_type": "code",
   "execution_count": null,
   "source": [
    "def predict_text(text_df, x_column, y_column):\n",
    "  vectorize = CountVectorizer(lowercase=False, max_features=50)\n",
    "  bag_of_words = vectorize.fit_transform(text_df[x_column])\n",
    "\n",
    "  x_train, x_test, y_train, y_test = train_test_split(\n",
    "    bag_of_words,\n",
    "    text_df[y_column],\n",
    "    random_state=SEED\n",
    "  )\n",
    "\n",
    "  ### Predict with LogisticRegression\n",
    "  logistic_regression_model = LogisticRegression()\n",
    "  logistic_regression_model.fit(x_train, y_train)\n",
    "  logistic_regression_accuracy = logistic_regression_model.score(x_test, y_test)\n",
    "\n",
    "  print(logistic_regression_accuracy)"
   ],
   "outputs": [],
   "metadata": {}
  },
  {
   "cell_type": "code",
   "execution_count": null,
   "source": [
    "# predict_text(df, 'text_pt', 'classification')"
   ],
   "outputs": [],
   "metadata": {}
  },
  {
   "cell_type": "code",
   "execution_count": null,
   "source": [
    "### Create a wordcloud\n",
    "def get_words_wordcloud(text_df, x_column, y_column, y_value):\n",
    "  all_words_based_on_y = text_df.query(f'{y_column} == \"{y_value}\"')\n",
    "  all_words_based_on_y = ' '.join([text for text in all_words_based_on_y[x_column]])\n",
    "\n",
    "  wordcloud = WordCloud(\n",
    "    width=800, \n",
    "    height=500, \n",
    "    max_font_size=110,\n",
    "    collocations=False\n",
    "  ).generate(all_words_based_on_y)\n",
    "\n",
    "  plt.figure(figsize=(10, 7))\n",
    "  plt.imshow(wordcloud, interpolation='bilinear')\n",
    "  plt.axis('off')\n",
    "  plt.show()"
   ],
   "outputs": [],
   "metadata": {}
  },
  {
   "cell_type": "code",
   "execution_count": null,
   "source": [
    "# get_words_wordcloud(df, 'text_pt', 'sentiment', 'pos')\n",
    "# get_words_wordcloud(df, 'text_pt', 'sentiment', 'neg')"
   ],
   "outputs": [],
   "metadata": {}
  },
  {
   "cell_type": "code",
   "execution_count": null,
   "source": [
    "### Tokenize white-spaces, getting words frequency & plot most frequent data\n",
    "def tokenize_and_plot_most_frequent_data(text_df, x_column, quantity):\n",
    "  all_words_from_x_column = ' '.join([text for text in text_df[x_column]])\n",
    "\n",
    "  tokenized_phrases = whitespace_tokenizer.tokenize(all_words_from_x_column)\n",
    "  words_frequency = nltk.FreqDist(tokenized_phrases)\n",
    "\n",
    "  words_frequency_df = pd.DataFrame({ \n",
    "    'Word': list(words_frequency.keys()), \n",
    "    'Frequency': list(words_frequency.values()) \n",
    "  })\n",
    "\n",
    "  n_most_frequent_words = words_frequency_df.nlargest(columns='Frequency', n=quantity)\n",
    "\n",
    "  plt.figure(figsize=(12, 8))\n",
    "  ax = sns.barplot(data=n_most_frequent_words, x='Word', y='Frequency', color='gray')\n",
    "  ax.set(ylabel='Count')\n",
    "  plt.show()"
   ],
   "outputs": [],
   "metadata": {}
  },
  {
   "cell_type": "code",
   "execution_count": null,
   "source": [
    "# tokenize_and_plot_most_frequent_data(df, 'text_pt', 10)"
   ],
   "outputs": [],
   "metadata": {}
  },
  {
   "cell_type": "code",
   "execution_count": null,
   "source": [
    "### Removes stopwords in all phrases from DataFrame\n",
    "all_phrases_without_stopwords = []\n",
    "\n",
    "for opinion in df['text_pt']:\n",
    "  phrase_words = whitespace_tokenizer.tokenize(opinion)\n",
    "  phrase_without_stopwords = []\n",
    "\n",
    "  for word in phrase_words:\n",
    "    if word not in stopwords:\n",
    "      phrase_without_stopwords.append(word)\n",
    "\n",
    "  all_phrases_without_stopwords.append(' '.join(phrase_without_stopwords))\n",
    "\n",
    "df['filter_01'] = all_phrases_without_stopwords"
   ],
   "outputs": [],
   "metadata": {}
  },
  {
   "cell_type": "code",
   "execution_count": null,
   "source": [
    "# predict_text(df, 'filter_01', 'classification')\n",
    "# tokenize_and_plot_most_frequent_data(df, 'filter_01', 10)"
   ],
   "outputs": [],
   "metadata": {}
  },
  {
   "cell_type": "code",
   "execution_count": null,
   "source": [
    "### Removes punctuation in all phrases from DataFrame\n",
    "all_phrases_without_punctuation = []\n",
    "\n",
    "for opinion in df['filter_01']:\n",
    "  phrase_words = punct_tokenizer.tokenize(opinion)\n",
    "  phrase_without_puncts = []\n",
    "\n",
    "  for word in phrase_words:\n",
    "    if word not in punctuations_and_stopwords:\n",
    "      phrase_without_puncts.append(word)\n",
    "\n",
    "  all_phrases_without_punctuation.append(' '.join(phrase_without_puncts))\n",
    "\n",
    "df['filter_02'] = all_phrases_without_punctuation"
   ],
   "outputs": [],
   "metadata": {}
  },
  {
   "cell_type": "code",
   "execution_count": null,
   "source": [
    "# predict_text(df, 'filter_02', 'classification')\n",
    "# tokenize_and_plot_most_frequent_data(df, 'filter_02', 10)"
   ],
   "outputs": [],
   "metadata": {}
  },
  {
   "cell_type": "code",
   "execution_count": null,
   "source": [
    "### Removes accents in all phrases from DataFrame\n",
    "all_phrases_without_accents = [unidecode(word) for word in df['filter_02']]\n",
    "stopwords_without_accents = [unidecode(stopword) for stopword in punctuations_and_stopwords]\n",
    "\n",
    "df['filter_03'] = all_phrases_without_accents\n",
    "\n",
    "all_phrases_without_accents = []\n",
    "\n",
    "for opinion in df['filter_03']:\n",
    "  phrase_words = punct_tokenizer.tokenize(opinion)\n",
    "  phrase_without_accents = []\n",
    "\n",
    "  for word in phrase_words:\n",
    "    if word not in punctuations_and_stopwords:\n",
    "      phrase_without_accents.append(word)\n",
    "\n",
    "  all_phrases_without_accents.append(' '.join(phrase_without_accents))\n",
    "\n",
    "df['filter_03'] = all_phrases_without_accents"
   ],
   "outputs": [],
   "metadata": {}
  },
  {
   "cell_type": "code",
   "execution_count": null,
   "source": [
    "### Tranform all phrases from DataFrame into lowercase\n",
    "all_phrases_with_lowercase = []\n",
    "\n",
    "for opinion in df['filter_03']:\n",
    "  opinion = opinion.lower()\n",
    "  \n",
    "  phrase_words = punct_tokenizer.tokenize(opinion)\n",
    "  phrase_with_lowercase = []\n",
    "\n",
    "  for word in phrase_words:\n",
    "    if word not in stopwords_without_accents:\n",
    "      phrase_with_lowercase.append(word)\n",
    "\n",
    "  all_phrases_with_lowercase.append(' '.join(phrase_with_lowercase))\n",
    "\n",
    "df['filter_04'] = all_phrases_with_lowercase"
   ],
   "outputs": [],
   "metadata": {}
  },
  {
   "cell_type": "code",
   "execution_count": null,
   "source": [
    "# predict_text(df, 'filter_04', 'classification')"
   ],
   "outputs": [],
   "metadata": {}
  },
  {
   "cell_type": "code",
   "execution_count": null,
   "source": [],
   "outputs": [],
   "metadata": {}
  }
 ],
 "metadata": {
  "orig_nbformat": 4,
  "language_info": {
   "name": "python",
   "version": "3.8.10",
   "mimetype": "text/x-python",
   "codemirror_mode": {
    "name": "ipython",
    "version": 3
   },
   "pygments_lexer": "ipython3",
   "nbconvert_exporter": "python",
   "file_extension": ".py"
  },
  "kernelspec": {
   "name": "python3",
   "display_name": "Python 3.8.10 64-bit ('behind_classification-EIFFRDf1': pipenv)"
  },
  "interpreter": {
   "hash": "5236c5d3e2e84c3c74c4f493e8c79fed12c86e43bb827fd0058b228c568a6eb0"
  }
 },
 "nbformat": 4,
 "nbformat_minor": 2
}